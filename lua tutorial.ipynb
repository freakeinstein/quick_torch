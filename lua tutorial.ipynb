{
 "cells": [
  {
   "cell_type": "markdown",
   "metadata": {},
   "source": [
    "This quick reference is based on the book `programming in lua - 3rd edition` [link](https://www.lua.org/pil/)"
   ]
  },
  {
   "cell_type": "code",
   "execution_count": 1,
   "metadata": {
    "collapsed": true
   },
   "outputs": [],
   "source": [
    "-- based on lua text book --"
   ]
  },
  {
   "cell_type": "code",
   "execution_count": 2,
   "metadata": {
    "collapsed": false
   },
   "outputs": [
    {
     "data": {
      "text/plain": [
       "hello world\t\n"
      ]
     },
     "execution_count": 2,
     "metadata": {},
     "output_type": "execute_result"
    }
   ],
   "source": [
    "print(\"hello world\")\n"
   ]
  },
  {
   "cell_type": "code",
   "execution_count": 3,
   "metadata": {
    "collapsed": false
   },
   "outputs": [
    {
     "data": {
      "text/plain": [
       "6\t\n"
      ]
     },
     "execution_count": 3,
     "metadata": {},
     "output_type": "execute_result"
    }
   ],
   "source": [
    "function fact(n)\n",
    "    if n == 1 then return 1 end\n",
    "    return n*fact(n-1)\n",
    "end\n",
    "\n",
    "print(fact(3))"
   ]
  },
  {
   "cell_type": "code",
   "execution_count": 4,
   "metadata": {
    "collapsed": false
   },
   "outputs": [
    {
     "data": {
      "text/plain": [
       "8\t\n"
      ]
     },
     "execution_count": 4,
     "metadata": {},
     "output_type": "execute_result"
    }
   ],
   "source": [
    "2^3"
   ]
  },
  {
   "cell_type": "code",
   "execution_count": 5,
   "metadata": {
    "collapsed": false
   },
   "outputs": [
    {
     "data": {
      "text/plain": [
       "nil\t\n"
      ]
     },
     "execution_count": 5,
     "metadata": {},
     "output_type": "execute_result"
    }
   ],
   "source": [
    "print(x)"
   ]
  },
  {
   "cell_type": "code",
   "execution_count": 6,
   "metadata": {
    "collapsed": false
   },
   "outputs": [
    {
     "data": {
      "text/plain": [
       "nil is false\t\n",
       "false is false\t\n",
       "0 is true\t\n",
       "empty string is true\t\n",
       "any digit is true\t\n",
       "any string is true\t\n"
      ]
     },
     "execution_count": 6,
     "metadata": {},
     "output_type": "execute_result"
    }
   ],
   "source": [
    "if nil then print(\"nil true\") else print(\"nil is false\") end\n",
    "if false then print(\"false true\") else print(\"false is false\") end\n",
    "if 0 then print(\"0 is true\") end\n",
    "if \"\" then print(\"empty string is true\") end\n",
    "if 2 then print(\"any digit is true\") end\n",
    "if \"jubin\" then print(\"any string is true\") end"
   ]
  },
  {
   "cell_type": "code",
   "execution_count": 7,
   "metadata": {
    "collapsed": false
   },
   "outputs": [
    {
     "data": {
      "text/plain": [
       "jubin\u0007jose jbn\t\n",
       "14\t\n"
      ]
     },
     "execution_count": 7,
     "metadata": {},
     "output_type": "execute_result"
    }
   ],
   "source": [
    "str = \"jubin\\ajose jbn\"\n",
    "print(str)\n",
    "print(#str)"
   ]
  },
  {
   "cell_type": "code",
   "execution_count": 8,
   "metadata": {
    "collapsed": false
   },
   "outputs": [
    {
     "data": {
      "text/plain": [
       "jubin jose\n",
       "a = b[c[i]] -- equal signs given above to save this equation's double brackets ]]\n",
       "cheruvallikattu\n",
       "cmc 28\n",
       "cherthala\n",
       "\t\n"
      ]
     },
     "execution_count": 8,
     "metadata": {},
     "output_type": "execute_result"
    }
   ],
   "source": [
    "str = [==[\n",
    "jubin jose\n",
    "a = b[c[i]] -- equal signs given above to save this equation's double brackets ]]\n",
    "cheruvallikattu\n",
    "cmc 28\n",
    "cherthala\n",
    "]==]\n",
    "\n",
    "print(str)"
   ]
  },
  {
   "cell_type": "code",
   "execution_count": 9,
   "metadata": {
    "collapsed": false
   },
   "outputs": [
    {
     "data": {
      "text/plain": [
       "-- lua automatically converts number to string where a string is expected and vice versa -- but good practie is to use tostring() and tonumber()\t\n"
      ]
     },
     "execution_count": 9,
     "metadata": {},
     "output_type": "execute_result"
    }
   ],
   "source": [
    "print(\"-- lua automatically converts number to string where a string is expected and vice versa -- but good practie is to use tostring() and tonumber()\")"
   ]
  },
  {
   "cell_type": "code",
   "execution_count": 10,
   "metadata": {
    "collapsed": false
   },
   "outputs": [
    {
     "data": {
      "text/plain": [
       "10\t\n"
      ]
     },
     "execution_count": 10,
     "metadata": {},
     "output_type": "execute_result"
    }
   ],
   "source": [
    "b = {}\n",
    "b['name'] = 10\n",
    "print(b.name) -- either way of access, 'cause everything is an entry in a table --"
   ]
  },
  {
   "cell_type": "code",
   "execution_count": 11,
   "metadata": {
    "collapsed": false
   },
   "outputs": [
    {
     "data": {
      "text/plain": [
       "false\t\n",
       "\n"
      ]
     },
     "execution_count": 11,
     "metadata": {},
     "output_type": "execute_result"
    }
   ],
   "source": [
    "-- excersise 2.1 --\n",
    "print(type(nil) == nil)"
   ]
  },
  {
   "cell_type": "code",
   "execution_count": 12,
   "metadata": {
    "collapsed": false
   },
   "outputs": [
    {
     "data": {
      "text/plain": [
       "10 % 3 = \t1\t\n",
       "10.13 % 3 = \t1.13\t\n",
       "10.13 % 1 = \t0.13\t\n",
       "10.13 - 10.13 % 1 = \t10\t\n",
       "10.1398765 - 10.1398765 % 0.01 = \t10.13\t\n"
      ]
     },
     "execution_count": 12,
     "metadata": {},
     "output_type": "execute_result"
    }
   ],
   "source": [
    "-- Modulo operator text: chapter 3--\n",
    "print(\"10 % 3 = \",10%3)\n",
    "print(\"10.13 % 3 = \",10.13%3)\n",
    "print(\"10.13 % 1 = \",10.13%1)\n",
    "print(\"10.13 - 10.13 % 1 = \",10.13-10.13%1)\n",
    "print(\"10.1398765 - 10.1398765 % 0.01 = \",10.1398765-10.1398765%0.01)"
   ]
  },
  {
   "cell_type": "code",
   "execution_count": 13,
   "metadata": {
    "collapsed": false
   },
   "outputs": [
    {
     "data": {
      "text/plain": [
       "true\t\n",
       "\n"
      ]
     },
     "execution_count": 13,
     "metadata": {},
     "output_type": "execute_result"
    }
   ],
   "source": [
    "-- refer text chapter 3 portion 3.4 & 3.6 --\n",
    "print(10 .. 6 == '106')"
   ]
  },
  {
   "cell_type": "code",
   "execution_count": 14,
   "metadata": {
    "collapsed": false
   },
   "outputs": [
    {
     "data": {
      "text/plain": [
       "monday\t\n",
       "nil\t20\tjose\t10\t20\tzoo\t\n",
       "-10\t\n",
       "plus\t\n",
       "10\t\n",
       "2\t\n",
       "49\t\n",
       "31\t\n",
       "62\t\n"
      ]
     },
     "execution_count": 14,
     "metadata": {},
     "output_type": "execute_result"
    }
   ],
   "source": [
    "-- Table constructors => {} portion 3.7 --\n",
    "days = {'sunday','monday','tuesday'}\n",
    "print(days[2])\n",
    "\n",
    "a = {x = 10, y = 20, jubin = 'jose', another = { inner = 10, deeper = 20, depth = 'zoo' }}\n",
    "print(a[x],a.y,a.jubin, a.another.inner, a.another['deeper'], a['another'].depth)\n",
    "\n",
    "a[-10] = -10\n",
    "print(a[-10])\n",
    "-- print(a.-10) -- will result in error --\n",
    "\n",
    "-- a[+] = 'plus' -- will cause error --\n",
    "a['+'] = 'plus' print(a['+']) -- is better way --\n",
    "\n",
    "--[[ to free last element overheads during automatic\n",
    "table generations, trailing comma is not a problem ]]--\n",
    "z = {10, 2, 49, 31, 62,} for i=1,#z do print(z[i]) end"
   ]
  },
  {
   "cell_type": "code",
   "execution_count": 15,
   "metadata": {
    "collapsed": false
   },
   "outputs": [
    {
     "data": {
      "text/plain": [
       "20\t10\t\n",
       "0\tnil\tnil\t\n"
      ]
     },
     "execution_count": 15,
     "metadata": {},
     "output_type": "execute_result"
    }
   ],
   "source": [
    "-- chapter 4 assignment --\n",
    "--[[ in lua, assignment => changing value of a table entry ]]--\n",
    "x,y = 10,20\n",
    "x,y = y,x -- no temp needed, lua does it :) --\n",
    "print(x,y)\n",
    "x,y,z = 0 -- is a mistake (not error) it just ignores y & z --\n",
    "print(x,y,z)"
   ]
  },
  {
   "cell_type": "code",
   "execution_count": 16,
   "metadata": {
    "collapsed": false
   },
   "outputs": [
    {
     "data": {
      "text/plain": [
       "10\tnil\t\n"
      ]
     },
     "execution_count": 16,
     "metadata": {},
     "output_type": "execute_result"
    }
   ],
   "source": [
    "-- local variable is local to a code block or local to a \"\"\"chunk\"\"\" of code --\n",
    "-- in interactive mode, a chunk is a set of lines before hitting enter --\n",
    "-- to eliminate this problem, use do - end --\n",
    "local outlier = 10\n",
    "do  -- works in terminal only\n",
    "    local inside_do = 10\n",
    "end\n",
    "print(outlier,inside_do)\n",
    "\n",
    "-- just like other languages code blocks like for, while --\n",
    "-- local behaves locally within that block --"
   ]
  },
  {
   "cell_type": "code",
   "execution_count": 17,
   "metadata": {
    "collapsed": false
   },
   "outputs": [
    {
     "data": {
      "text/plain": [
       "1\t\n",
       "1.5\t\n",
       "2\t\n"
      ]
     },
     "execution_count": 17,
     "metadata": {},
     "output_type": "execute_result"
    }
   ],
   "source": [
    "for var = 1,2,0.5 do\n",
    "    print(var)\n",
    "end\n",
    "--[[ important notes:\n",
    "1. for loop evaluates all three conditions once before loop starts\n",
    "2. var is local variable  ]]--"
   ]
  },
  {
   "cell_type": "code",
   "execution_count": 18,
   "metadata": {
    "collapsed": false
   },
   "outputs": [
    {
     "data": {
      "text/plain": [
       "jubin\tjose\t\n",
       "+\tplus\t\n",
       "-10\t-10\t\n",
       "x\t10\t\n",
       "y\t20\t\n",
       "another\t{\n",
       "  deeper : 20\n",
       "  depth : zoo\n",
       "  inner : 10\n",
       "}\n"
      ]
     },
     "execution_count": 18,
     "metadata": {},
     "output_type": "execute_result"
    }
   ],
   "source": [
    "--[[  generic for loop traverses all values returned by an iterator function ]]--\n",
    "for k,v in pairs(a)\n",
    "do \n",
    "    print(k,v)\n",
    "end -- we could write our own iterative function like pairs() --"
   ]
  },
  {
   "cell_type": "markdown",
   "metadata": {},
   "source": [
    "** upcoming five chunks related to function calls **"
   ]
  },
  {
   "cell_type": "code",
   "execution_count": 19,
   "metadata": {
    "collapsed": false
   },
   "outputs": [
    {
     "data": {
      "text/plain": [
       "jubin\t\n",
       "Wed Jun 29 21:23:02 2016\t\n",
       "1\t2\tnil\t\n",
       "1\t2\t3\t\n",
       "17\t\n",
       "71\t\n",
       "2\t4\tjubin\t\n"
      ]
     },
     "execution_count": 19,
     "metadata": {},
     "output_type": "execute_result"
    }
   ],
   "source": [
    "-- functions --\n",
    "-- if a function has only singlle argument, no need for paranthesis --\n",
    "print 'jubin'\n",
    "-- print os.date() -- will show error actual call: below --\n",
    "print(os.date())\n",
    "\n",
    "-- object oriented call to function --\n",
    "-- x:function(y) -- => function(x,y)\n",
    "\n",
    "-- no. of arguments may vary while calling a function --\n",
    "function foo(a,b,c)\n",
    "    print(a,b,c)\n",
    "end\n",
    "foo(1,2)\n",
    "foo(1,2,3,4)\n",
    "\n",
    "-- default function arguments --\n",
    "function foo1(n)\n",
    "    n = n or 17 -- 1 is default value --\n",
    "    print(n)\n",
    "end\n",
    "foo1()\n",
    "foo1(71)\n",
    "\n",
    "-- function returns multiple results --\n",
    "function foo2(n)\n",
    "    return n,n^2,'jubin'\n",
    "end\n",
    "print(foo2(2))"
   ]
  },
  {
   "cell_type": "code",
   "execution_count": 20,
   "metadata": {
    "collapsed": false
   },
   "outputs": [
    {
     "data": {
      "text/plain": [
       "nil\tnil\t\n",
       "a\tnil\t\n",
       "a\t\n",
       "10\ta\tb\t\n",
       "number\t\n",
       "a\t20\t\n",
       "a\t20\tnil\t\n",
       "nil\t20\t30\t\n",
       "number\t10\t\n",
       "a man\t\n",
       "3\t\n"
      ]
     },
     "execution_count": 20,
     "metadata": {},
     "output_type": "execute_result"
    }
   ],
   "source": [
    "-- some other points to note when function call in list --\n",
    "-- pre requisits --\n",
    "function ff0() end\n",
    "function ff1() return 'a' end\n",
    "function ff2() return 'a','b' end\n",
    "-- situations: --\n",
    "-- 1) only function call in a list OR function call at the end --\n",
    "-- it produces all results if any --\n",
    "x,y = ff0() print(x,y)\n",
    "x,y = ff1() print(x,y)\n",
    "x = ff2() print(x)\n",
    "x,y,z = 10,ff2() print(x,y,z)\n",
    "print(type(foo2(2))) -- special case --\n",
    "-- 2) A function call that is not the last element in the list --\n",
    "-- always produces exactly one result --\n",
    "x,y = ff2(),20 print(x,y)\n",
    "x,y,z = ff2(),20 print(x,y,z)\n",
    "x,y,z = ff0(),20,30 print(x,y,z)\n",
    "print(type(foo2(2)),10) -- special case --\n",
    "-- 3) function call in an expression it behave as (2) --\n",
    "x = ff2() .. ' man' print(x)\n",
    "x = foo2(2)+1 print(x)"
   ]
  },
  {
   "cell_type": "code",
   "execution_count": 21,
   "metadata": {
    "collapsed": false
   },
   "outputs": [
    {
     "data": {
      "text/plain": [
       "{\n",
       "  1 : a\n",
       "  2 : b\n",
       "}\n",
       "{\n",
       "  1 : 10\n",
       "  2 : a\n",
       "  3 : b\n",
       "}\n",
       "{\n",
       "  1 : a\n",
       "  2 : 10\n",
       "}\n"
      ]
     },
     "execution_count": 21,
     "metadata": {},
     "output_type": "execute_result"
    }
   ],
   "source": [
    "-- 4) a constructer works in the similar way as well --\n",
    "t = {ff2()} print(t)\n",
    "t = {10,ff2()} print(t)\n",
    "t = {ff2(),10} print(t)"
   ]
  },
  {
   "cell_type": "code",
   "execution_count": 22,
   "metadata": {
    "collapsed": false
   },
   "outputs": [
    {
     "data": {
      "text/plain": [
       "a\tb\t\n",
       "a\t\n",
       "1\t2\t3\t\n"
      ]
     },
     "execution_count": 22,
     "metadata": {},
     "output_type": "execute_result"
    }
   ],
   "source": [
    "-- 5) return values --\n",
    "function returner(i)\n",
    "    if i == 0 then return ff0()\n",
    "    elseif i == 1 then return ff1()\n",
    "    elseif i == 2 then return ff2()\n",
    "    elseif i == 3 then return (ff2()) -- a paranthesis changes result -- \n",
    "    end\n",
    "end\n",
    "\n",
    "print(returner(2))\n",
    "print(returner(3))\n",
    "\n",
    "-- a special function that returns multiple values --\n",
    "print(table.unpack{1,2,3})"
   ]
  },
  {
   "cell_type": "code",
   "execution_count": 23,
   "metadata": {
    "collapsed": false
   },
   "outputs": [
    {
     "data": {
      "text/plain": [
       "1\t2\t3\t4\t5\t6\t\n",
       "21\t\n",
       "20\t10\t\n"
      ]
     },
     "execution_count": 23,
     "metadata": {},
     "output_type": "execute_result"
    }
   ],
   "source": [
    "-- veriadic functions --\n",
    "-- functions can have any no of arguments into a single array --\n",
    "function foo(...)\n",
    "    print(...) -- these 3 dots are parameters 'vararg expression' --\n",
    "    local sum = 0\n",
    "    for i in ipairs{...} do\n",
    "        sum = sum + i\n",
    "    end\n",
    "    print(sum)\n",
    "end\n",
    "a = {1,2,3,4,5,6,}\n",
    "foo(table.unpack(a))\n",
    "\n",
    "-- function with named parameters --\n",
    "-- instead of passing a lot of parameters and having --\n",
    "-- confusion about the parameter positions of the functions --\n",
    "-- we could use the technique of a table to name parameters --\n",
    "function swap(arg)\n",
    "    return arg.right,arg.left\n",
    "end\n",
    "sl,sr = swap{left = 10,right = 20}\n",
    "print(sl,sr)"
   ]
  },
  {
   "cell_type": "markdown",
   "metadata": {},
   "source": [
    "** More on functions ** chapter 6"
   ]
  },
  {
   "cell_type": "code",
   "execution_count": 1,
   "metadata": {
    "collapsed": false
   },
   "outputs": [
    {
     "data": {
      "text/plain": [
       "jubin jose\t\n",
       "0.8414709848079\t\n"
      ]
     },
     "execution_count": 1,
     "metadata": {},
     "output_type": "execute_result"
    }
   ],
   "source": [
    "--[[ 1. functions are first class values => ike variables \n",
    "     2. they have lexical scope => they can access variables of their enclosing functions\n",
    "        (inspired by functional programmng) ]]--\n",
    "-- functions are anonymouse; they dont have name, what we use is a variable name that adress thaat function --\n",
    "a = { p=print } a.p('jubin jose')\n",
    "print = math.sin a.p(print(1))"
   ]
  },
  {
   "cell_type": "code",
   "execution_count": 4,
   "metadata": {
    "collapsed": false
   },
   "outputs": [
    {
     "data": {
      "text/plain": [
       "jubin\t\n",
       "jose\t\n"
      ]
     },
     "execution_count": 4,
     "metadata": {},
     "output_type": "execute_result"
    }
   ],
   "source": [
    "-- restart kernal here !! (problems with print()) --\n",
    "-- two ways of writing functions --\n",
    "-- 1 -- \n",
    "function fun()\n",
    "    print('jubin')\n",
    "end\n",
    "-- 2 --\n",
    "fun1 = function()\n",
    "    print('jose')\n",
    "end\n",
    "fun();fun1()"
   ]
  },
  {
   "cell_type": "code",
   "execution_count": 7,
   "metadata": {
    "collapsed": false
   },
   "outputs": [
    {
     "data": {
      "text/plain": [
       "0.46851667130038\t0.46856084325086\t\n"
      ]
     },
     "execution_count": 7,
     "metadata": {},
     "output_type": "execute_result"
    }
   ],
   "source": [
    "--[[ higher order functions (function that gets another function as an argument) \n",
    "and returning anonymous functions ]]--\n",
    "function derivative (f,delta) -- f is a function which is given into for computation, --\n",
    "                                -- just like we do in sort(list,f) method, --\n",
    "                                -- f determines which one is should go to top in two values --\n",
    "    delta = delta or 1e-4 -- setting default param value --\n",
    "    return function(x)\n",
    "        return (f(x+delta) - f(x))/delta\n",
    "        end\n",
    "end\n",
    "\n",
    "c = derivative(math.sin)\n",
    "print(math.cos(5.2),c(5.2)) -- derivative of sin is cos, it must give approx. same value --\n"
   ]
  },
  {
   "cell_type": "code",
   "execution_count": 10,
   "metadata": {
    "collapsed": false
   },
   "outputs": [
    {
     "data": {
      "text/plain": [
       "c1\t1\t\n",
       "c1\t2\t\n",
       "c2\t1\t\n",
       "c1\t3\t\n",
       "c2\t2\t\n"
      ]
     },
     "execution_count": 10,
     "metadata": {},
     "output_type": "execute_result"
    }
   ],
   "source": [
    "-- closures just works like objects--\n",
    "function newCounter()\n",
    "    local i = 0\n",
    "    return function ()\n",
    "        i = i + 1\n",
    "        return i\n",
    "    end\n",
    "end\n",
    "c1 = newCounter()\n",
    "print('c1',c1())\n",
    "print('c1',c1())\n",
    "c2 = newCounter()\n",
    "print('c2',c2())\n",
    "print('c1',c1())\n",
    "print('c2',c2())"
   ]
  },
  {
   "cell_type": "markdown",
   "metadata": {},
   "source": [
    "**Iterators and Generic for** chapter 7 (will be updated soon)"
   ]
  },
  {
   "cell_type": "code",
   "execution_count": null,
   "metadata": {
    "collapsed": true
   },
   "outputs": [],
   "source": []
  }
 ],
 "metadata": {
  "kernelspec": {
   "display_name": "iTorch",
   "language": "lua",
   "name": "itorch"
  },
  "language_info": {
   "name": "lua",
   "version": "5.1"
  }
 },
 "nbformat": 4,
 "nbformat_minor": 0
}
