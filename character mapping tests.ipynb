{
 "cells": [
  {
   "cell_type": "markdown",
   "metadata": {},
   "source": [
    "this notebook is to check the possibilities of mapping of UNICODE text into 8 bit clean format map( ASCII + malayalam UNICODE, within range 0-255 )"
   ]
  },
  {
   "cell_type": "markdown",
   "metadata": {},
   "source": [
    "1. testing characters for independance\n",
    "ie, if 200th and 201th chars are different ?"
   ]
  },
  {
   "cell_type": "code",
   "execution_count": 2,
   "metadata": {
    "collapsed": false
   },
   "outputs": [
    {
     "data": {
      "text/plain": [
       "200 = 200 success !\t\n",
       "200 < 201 success !\t\n"
      ]
     },
     "execution_count": 2,
     "metadata": {},
     "output_type": "execute_result"
    }
   ],
   "source": [
    "if (string.char(200) == string.char(201)) then print(\"200 = 201 fail !\") end\n",
    "if (string.char(200) == string.char(200)) then print(\"200 = 200 success !\") end\n",
    "if (string.char(200) < string.char(201)) then print(\"200 < 201 success !\") end"
   ]
  },
  {
   "cell_type": "markdown",
   "metadata": {},
   "source": [
    "### print every character\n"
   ]
  },
  {
   "cell_type": "code",
   "execution_count": 3,
   "metadata": {
    "collapsed": false
   },
   "outputs": [
    {
     "data": {
      "text/plain": [
       "0\t\u0000\t\n",
       "1\t\u0001\t\n",
       "2\t\u0002\t\n",
       "3\t\u0003\t\n",
       "4\t\u0004\t\n",
       "5\t\u0005\t\n",
       "6\t\u0006\t\n",
       "7\t\u0007\t\n",
       "8\t\b\t\n",
       "9\t\t\t\n",
       "10\t\n",
       "\t\n",
       "11\t\u000b",
       "\t\n",
       "12\t\f",
       "\t\n",
       "13\t\r",
       "\t\n",
       "14\t\u000e\t\n",
       "15\t\u000f\t\n",
       "16\t\u0010\t\n",
       "17\t\u0011\t\n",
       "18\t\u0012\t\n",
       "19\t\u0013\t\n",
       "20\t\u0014\t\n",
       "21\t\u0015\t\n",
       "22\t\u0016\t\n",
       "23\t\u0017\t\n",
       "24\t\u0018\t\n",
       "25\t\u0019\t\n",
       "26\t\u001a\t\n",
       "27\t\u001b\t\n",
       "28\t\u001c",
       "\t\n",
       "29\t\u001d",
       "\t\n",
       "30\t\u001e",
       "\t\n",
       "31\t\u001f\t\n",
       "32\t \t\n",
       "33\t!\t\n",
       "34\t\"\t\n",
       "35\t#\t\n",
       "36\t$\t\n",
       "37\t%\t\n",
       "38\t&\t\n",
       "39\t'\t\n",
       "40\t(\t\n",
       "41\t)\t\n",
       "42\t*\t\n"
      ]
     },
     "execution_count": 3,
     "metadata": {},
     "output_type": "execute_result"
    },
    {
     "data": {
      "text/plain": [
       "43\t+\t\n",
       "44\t,\t\n",
       "45\t-\t\n",
       "46\t.\t\n",
       "47\t/\t\n",
       "48\t0\t\n",
       "49\t1\t\n",
       "50\t2\t\n",
       "51\t3\t\n",
       "52\t4\t\n",
       "53\t5\t\n",
       "54\t6\t\n",
       "55\t7\t\n",
       "56\t8\t\n",
       "57\t9\t\n",
       "58\t:\t\n",
       "59\t;\t\n",
       "60\t<\t\n",
       "61\t=\t\n",
       "62\t>\t\n",
       "63\t?\t\n",
       "64\t@\t\n",
       "65\tA\t\n",
       "66\tB\t\n",
       "67\tC\t\n",
       "68\tD\t\n",
       "69\tE\t\n",
       "70\tF\t\n",
       "71\tG\t\n",
       "72\tH\t\n",
       "73\tI\t\n",
       "74\tJ\t\n",
       "75\tK\t\n",
       "76\tL\t\n",
       "77\tM\t\n",
       "78\tN\t\n",
       "79\tO\t\n",
       "80\tP\t\n",
       "81\tQ\t\n",
       "82\tR\t\n",
       "83\tS\t\n",
       "84\tT\t\n",
       "85\tU\t\n",
       "86\tV\t\n",
       "87\tW\t\n",
       "88\tX\t\n",
       "89\tY\t\n",
       "90\tZ\t\n",
       "91\t[\t\n",
       "92\t\\\t\n",
       "93\t]\t\n",
       "94\t^\t\n",
       "95\t_\t\n",
       "96\t`\t\n",
       "97\ta\t\n",
       "98\tb\t\n",
       "99\tc\t\n",
       "100\td\t\n",
       "101\te\t\n",
       "102\tf\t\n",
       "103\tg\t\n",
       "104\th\t\n",
       "105\ti\t\n",
       "106\tj\t\n",
       "107\tk\t\n",
       "108\tl\t\n",
       "109\tm\t\n",
       "110\tn\t\n",
       "111\to\t\n",
       "112\tp\t\n",
       "113\tq\t\n",
       "114\tr\t\n",
       "115\ts\t\n",
       "116\tt\t\n",
       "117\tu\t\n",
       "118\tv\t\n",
       "119\tw\t\n",
       "120\tx\t\n",
       "121\ty\t\n",
       "122\tz\t\n",
       "123\t{\t\n",
       "124\t|\t\n",
       "125\t}\t\n",
       "126\t~\t\n",
       "127\t\t\n"
      ]
     },
     "execution_count": 3,
     "metadata": {},
     "output_type": "execute_result"
    }
   ],
   "source": [
    "for i=0,127 do print(i,string.char(i)) end "
   ]
  },
  {
   "cell_type": "markdown",
   "metadata": {},
   "source": [
    "### Some tests on lua for later development"
   ]
  },
  {
   "cell_type": "code",
   "execution_count": 4,
   "metadata": {
    "collapsed": false
   },
   "outputs": [
    {
     "data": {
      "text/plain": [
       "201\t\n",
       "224\t\n",
       "224\t\n",
       "അ\tക\t\n",
       "--\tഅ\t\n"
      ]
     },
     "execution_count": 4,
     "metadata": {},
     "output_type": "execute_result"
    }
   ],
   "source": [
    "x = string.char(201)\n",
    "print(string.byte(x))\n",
    "xx = 'അ'\n",
    "xx1 = 'ക'\n",
    "print(string.byte(xx))\n",
    "print(string.byte(xx1))\n",
    "print(xx,xx1)\n",
    "\n",
    "print(\"--\",string.char(224,180,133))"
   ]
  },
  {
   "cell_type": "markdown",
   "metadata": {},
   "source": [
    "### our plan to create the table :\n",
    "- a single table 'emma' holds everything which is a variable/datastructure to the project\n",
    "- in emma place another table entry char_map as the character mapping table\n",
    "- in char_map, there are two tables, ASCII_UNICODE and UNICODE_ASCII"
   ]
  },
  {
   "cell_type": "code",
   "execution_count": 5,
   "metadata": {
    "collapsed": false
   },
   "outputs": [
    {
     "data": {
      "text/plain": [
       "{\n",
       "  char_map : \n",
       "    {\n",
       "      UNICODE_ASCII : table: 0x0ea0dc68\n",
       "      ASCII_UNICODE : table: 0x0ea0d808\n",
       "    }\n",
       "}\n"
      ]
     },
     "execution_count": 5,
     "metadata": {},
     "output_type": "execute_result"
    }
   ],
   "source": [
    "emma = {}\n",
    "emma.char_map = {}\n",
    "emma.char_map.ASCII_UNICODE = {}\n",
    "emma.char_map.UNICODE_ASCII = {}\n",
    "print(emma)"
   ]
  },
  {
   "cell_type": "markdown",
   "metadata": {},
   "source": [
    "### Fill up both tables:\n",
    "\n",
    "- ASCII_UNICODE table - for ASCII to UNICODE  conversion.\n",
    "- ASCII_UNICODE table - for ASCII to UNICODE  conversion."
   ]
  },
  {
   "cell_type": "code",
   "execution_count": 6,
   "metadata": {
    "collapsed": false
   },
   "outputs": [
    {
     "data": {
      "text/plain": [
       "224\t182\t128\t\n"
      ]
     },
     "execution_count": 6,
     "metadata": {},
     "output_type": "execute_result"
    }
   ],
   "source": [
    "for i=0,127 do\n",
    "    emma.char_map.ASCII_UNICODE[string.char(i)] = string.char(i)\n",
    "    emma.char_map.UNICODE_ASCII[string.char(i)] = string.char(i)\n",
    "end\n",
    "local x,y,z = 224,180,128\n",
    "for i=128,255 do\n",
    "    -- print(x,y,z)\n",
    "    emma.char_map.ASCII_UNICODE[string.char(i)] = string.char(x,y,z)\n",
    "    emma.char_map.UNICODE_ASCII[string.char(x,y,z)] = string.char(i)\n",
    "    z = z+1 ;\n",
    "    if z > 191 then z,y = 128,y+1 end\n",
    "end\n",
    "print(x,y,z)"
   ]
  },
  {
   "cell_type": "markdown",
   "metadata": {},
   "source": [
    "### Some tests on malayalam text"
   ]
  },
  {
   "cell_type": "code",
   "execution_count": 7,
   "metadata": {
    "collapsed": false
   },
   "outputs": [
    {
     "data": {
      "text/plain": [
       "a\t\n",
       "a\t\n"
      ]
     },
     "execution_count": 7,
     "metadata": {},
     "output_type": "execute_result"
    }
   ],
   "source": [
    "local malayalam = {}\n",
    "malayalam['അ'] = 'a'\n",
    "print(malayalam['അ'])\n",
    "print(malayalam[string.char(224, 180, 133)])"
   ]
  },
  {
   "cell_type": "code",
   "execution_count": 8,
   "metadata": {
    "collapsed": false
   },
   "outputs": [],
   "source": [
    "for i=0,255 do\n",
    "    local uni = emma.char_map.ASCII_UNICODE[string.char(i)]\n",
    "   -- print(i,uni,emma.char_map.UNICODE_ASCII[uni]) -- tested in terminal (not here) ! it works !\n",
    "end"
   ]
  },
  {
   "cell_type": "markdown",
   "metadata": {},
   "source": [
    "for unicode reference : [link1](http://www.utf8-chartable.de/unicode-utf8-table.pl?start=3328&utf8=dec&unicodeinhtml=dec) [link2](http://unicode.org/charts/PDF/U0D00.pdf) ![unicode table](https://cloud.githubusercontent.com/assets/19545678/16567892/5f8f96b4-4241-11e6-80d9-42cebdf14b4b.jpg)"
   ]
  },
  {
   "cell_type": "code",
   "execution_count": 20,
   "metadata": {
    "collapsed": false
   },
   "outputs": [
    {
     "data": {
      "text/plain": [
       "a\t\n",
       "a\t\n"
      ]
     },
     "execution_count": 20,
     "metadata": {},
     "output_type": "execute_result"
    }
   ],
   "source": []
  },
  {
   "cell_type": "code",
   "execution_count": null,
   "metadata": {
    "collapsed": true
   },
   "outputs": [],
   "source": []
  }
 ],
 "metadata": {
  "kernelspec": {
   "display_name": "iTorch",
   "language": "lua",
   "name": "itorch"
  },
  "language_info": {
   "name": "lua",
   "version": "5.1"
  }
 },
 "nbformat": 4,
 "nbformat_minor": 0
}
