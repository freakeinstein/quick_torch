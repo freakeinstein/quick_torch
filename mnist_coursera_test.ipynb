{
 "cells": [
  {
   "cell_type": "code",
   "execution_count": 86,
   "metadata": {
    "collapsed": true
   },
   "outputs": [],
   "source": [
    "require 'nn';"
   ]
  },
  {
   "cell_type": "code",
   "execution_count": null,
   "metadata": {
    "collapsed": false
   },
   "outputs": [],
   "source": []
  },
  {
   "cell_type": "code",
   "execution_count": null,
   "metadata": {
    "collapsed": false
   },
   "outputs": [],
   "source": []
  },
  {
   "cell_type": "markdown",
   "metadata": {},
   "source": [
    "Define model:"
   ]
  },
  {
   "cell_type": "code",
   "execution_count": 89,
   "metadata": {
    "collapsed": false
   },
   "outputs": [],
   "source": [
    "model = nn.Sequential()\n",
    "model:add(nn.Linear(28*28,25))\n",
    "model:add(nn.Sigmoid())\n",
    "model:add(nn.Linear(25,10))\n",
    "model:add(nn.Sigmoid())\n",
    "-- model:add(nn.LogSoftMax()) Reason: http://stackoverflow.com/a/32570711/1703006 -- "
   ]
  },
  {
   "cell_type": "markdown",
   "metadata": {},
   "source": [
    "Defining cost function"
   ]
  },
  {
   "cell_type": "code",
   "execution_count": 90,
   "metadata": {
    "collapsed": true
   },
   "outputs": [],
   "source": [
    "-- criterion = nn.ClassNLLCriterion()  Reason: http://stackoverflow.com/a/32570711/1703006 -- \n",
    "criterion = nn.CrossEntropyCriterion()"
   ]
  },
  {
   "cell_type": "markdown",
   "metadata": {},
   "source": [
    "gradient descent optimization"
   ]
  },
  {
   "cell_type": "code",
   "execution_count": 91,
   "metadata": {
    "collapsed": false
   },
   "outputs": [],
   "source": [
    "require 'optim';"
   ]
  },
  {
   "cell_type": "code",
   "execution_count": 92,
   "metadata": {
    "collapsed": true
   },
   "outputs": [],
   "source": [
    "epoch = 10\n",
    "mini_batch = 100\n",
    "LC = 0.001"
   ]
  },
  {
   "cell_type": "markdown",
   "metadata": {},
   "source": [
    "flattening parameters"
   ]
  },
  {
   "cell_type": "code",
   "execution_count": 93,
   "metadata": {
    "collapsed": false
   },
   "outputs": [],
   "source": [
    "params, gradParams = model:getParameters()\n",
    "optimState = {learningRate = LC}"
   ]
  },
  {
   "cell_type": "code",
   "execution_count": 110,
   "metadata": {
    "collapsed": false
   },
   "outputs": [
    {
     "data": {
      "text/plain": [
       "epoch: \t1\t\n"
      ]
     },
     "execution_count": 110,
     "metadata": {},
     "output_type": "execute_result"
    },
    {
     "data": {
      "text/plain": [
       " 60000\n",
       "[torch.LongStorage of size 1]\n",
       "\n"
      ]
     },
     "execution_count": 110,
     "metadata": {},
     "output_type": "execute_result"
    },
    {
     "data": {
      "text/plain": [
       "cost: \t2.3131170426691\t\n"
      ]
     },
     "execution_count": 110,
     "metadata": {},
     "output_type": "execute_result"
    },
    {
     "data": {
      "text/plain": [
       "userdata\t\n"
      ]
     },
     "execution_count": 110,
     "metadata": {},
     "output_type": "execute_result"
    },
    {
     "ename": "/Users/drdre/torch/install/share/lua/5.1/nn/Container.lua:67: \nIn 1 module of nn.Sequential:\n/Users/drdre/torch/install/share/lua/5.1/nn/Linear.lua:84: invalid arguments: DoubleTensor number number DoubleTensor DoubleTensor \nexpected arguments: *DoubleTensor~1D* [DoubleTensor~1D] [double] DoubleTensor~2D DoubleTensor~1D | *DoubleTensor~1D* double [DoubleTensor~1D] double DoubleTensor~2D DoubleTensor~1D\nstack traceback:\n\t[C]: in function 'addmv'\n\t/Users/drdre/torch/install/share/lua/5.1/nn/Linear.lua:84: in function 'updateGradInput'\n\t/Users/drdre/torch/install/share/lua/5.1/nn/Module.lua:31: in function </Users/drdre/torch/install/share/lua/5.1/nn/Module.lua:29>\n\t[C]: in function 'xpcall'\n\t/Users/drdre/torch/install/share/lua/5.1/nn/Container.lua:63: in function 'rethrowErrors'\n\t/Users/drdre/torch/install/share/lua/5.1/nn/Sequential.lua:88: in function 'backward'\n\t[string \"local mnist = require 'mnist';...\"]:23: in function 'opfunc'\n\t/Users/drdre/torch/install/share/lua/5.1/optim/sgd.lua:44: in function 'sgd'\n\t[string \"local mnist = require 'mnist';...\"]:28: in main chunk\n\t[C]: in function 'xpcall'\n\t/Users/drdre/torch/install/share/lua/5.1/itorch/main.lua:209: in function </Users/drdre/torch/install/share/lua/5.1/itorch/main.lua:173>\n\t/Users/drdre/torch/install/share/lua/5.1/lzmq/poller.lua:75: in function 'poll'\n\t/Users/drdre/torch/install/share/lua/5.1/lzmq/impl/loop.lua:307: in function 'poll'\n\t/Users/drdre/torch/install/share/lua/5.1/lzmq/impl/loop.lua:325: in function 'sleep_ex'\n\t/Users/drdre/torch/install/share/lua/5.1/lzmq/impl/loop.lua:370: in function 'start'\n\t/Users/drdre/torch/install/share/lua/5.1/itorch/main.lua:381: in main chunk\n\t[C]: in function 'require'\n\t(command line):1: in main chunk\n\t[C]: at 0x010245ed10\n\nWARNING: If you see a stack trace below, it doesn't point to the place where this error occured. Please use only the one above.\nstack traceback:\n\t[C]: in function 'error'\n\t/Users/drdre/torch/install/share/lua/5.1/nn/Container.lua:67: in function 'rethrowErrors'\n\t/Users/drdre/torch/install/share/lua/5.1/nn/Sequential.lua:88: in function 'backward'\n\t[string \"local mnist = require 'mnist';...\"]:23: in function 'opfunc'\n\t/Users/drdre/torch/install/share/lua/5.1/optim/sgd.lua:44: in function 'sgd'\n\t[string \"local mnist = require 'mnist';...\"]:28: in main chunk\n\t[C]: in function 'xpcall'\n\t/Users/drdre/torch/install/share/lua/5.1/itorch/main.lua:209: in function </Users/drdre/torch/install/share/lua/5.1/itorch/main.lua:173>\n\t/Users/drdre/torch/install/share/lua/5.1/lzmq/poller.lua:75: in function 'poll'\n\t/Users/drdre/torch/install/share/lua/5.1/lzmq/impl/loop.lua:307: in function 'poll'\n\t/Users/drdre/torch/install/share/lua/5.1/lzmq/impl/loop.lua:325: in function 'sleep_ex'\n\t/Users/drdre/torch/install/share/lua/5.1/lzmq/impl/loop.lua:370: in function 'start'\n\t/Users/drdre/torch/install/share/lua/5.1/itorch/main.lua:381: in main chunk\n\t[C]: in function 'require'\n\t(command line):1: in main chunk\n\t[C]: at 0x010245ed10",
     "evalue": "",
     "output_type": "error",
     "traceback": [
      "/Users/drdre/torch/install/share/lua/5.1/nn/Container.lua:67: \nIn 1 module of nn.Sequential:\n/Users/drdre/torch/install/share/lua/5.1/nn/Linear.lua:84: invalid arguments: DoubleTensor number number DoubleTensor DoubleTensor \nexpected arguments: *DoubleTensor~1D* [DoubleTensor~1D] [double] DoubleTensor~2D DoubleTensor~1D | *DoubleTensor~1D* double [DoubleTensor~1D] double DoubleTensor~2D DoubleTensor~1D\nstack traceback:\n\t[C]: in function 'addmv'\n\t/Users/drdre/torch/install/share/lua/5.1/nn/Linear.lua:84: in function 'updateGradInput'\n\t/Users/drdre/torch/install/share/lua/5.1/nn/Module.lua:31: in function </Users/drdre/torch/install/share/lua/5.1/nn/Module.lua:29>\n\t[C]: in function 'xpcall'\n\t/Users/drdre/torch/install/share/lua/5.1/nn/Container.lua:63: in function 'rethrowErrors'\n\t/Users/drdre/torch/install/share/lua/5.1/nn/Sequential.lua:88: in function 'backward'\n\t[string \"local mnist = require 'mnist';...\"]:23: in function 'opfunc'\n\t/Users/drdre/torch/install/share/lua/5.1/optim/sgd.lua:44: in function 'sgd'\n\t[string \"local mnist = require 'mnist';...\"]:28: in main chunk\n\t[C]: in function 'xpcall'\n\t/Users/drdre/torch/install/share/lua/5.1/itorch/main.lua:209: in function </Users/drdre/torch/install/share/lua/5.1/itorch/main.lua:173>\n\t/Users/drdre/torch/install/share/lua/5.1/lzmq/poller.lua:75: in function 'poll'\n\t/Users/drdre/torch/install/share/lua/5.1/lzmq/impl/loop.lua:307: in function 'poll'\n\t/Users/drdre/torch/install/share/lua/5.1/lzmq/impl/loop.lua:325: in function 'sleep_ex'\n\t/Users/drdre/torch/install/share/lua/5.1/lzmq/impl/loop.lua:370: in function 'start'\n\t/Users/drdre/torch/install/share/lua/5.1/itorch/main.lua:381: in main chunk\n\t[C]: in function 'require'\n\t(command line):1: in main chunk\n\t[C]: at 0x010245ed10\n\nWARNING: If you see a stack trace below, it doesn't point to the place where this error occured. Please use only the one above.\nstack traceback:\n\t[C]: in function 'error'\n\t/Users/drdre/torch/install/share/lua/5.1/nn/Container.lua:67: in function 'rethrowErrors'\n\t/Users/drdre/torch/install/share/lua/5.1/nn/Sequential.lua:88: in function 'backward'\n\t[string \"local mnist = require 'mnist';...\"]:23: in function 'opfunc'\n\t/Users/drdre/torch/install/share/lua/5.1/optim/sgd.lua:44: in function 'sgd'\n\t[string \"local mnist = require 'mnist';...\"]:28: in main chunk\n\t[C]: in function 'xpcall'\n\t/Users/drdre/torch/install/share/lua/5.1/itorch/main.lua:209: in function </Users/drdre/torch/install/share/lua/5.1/itorch/main.lua:173>\n\t/Users/drdre/torch/install/share/lua/5.1/lzmq/poller.lua:75: in function 'poll'\n\t/Users/drdre/torch/install/share/lua/5.1/lzmq/impl/loop.lua:307: in function 'poll'\n\t/Users/drdre/torch/install/share/lua/5.1/lzmq/impl/loop.lua:325: in function 'sleep_ex'\n\t/Users/drdre/torch/install/share/lua/5.1/lzmq/impl/loop.lua:370: in function 'start'\n\t/Users/drdre/torch/install/share/lua/5.1/itorch/main.lua:381: in main chunk\n\t[C]: in function 'require'\n\t(command line):1: in main chunk\n\t[C]: at 0x010245ed10"
     ]
    }
   ],
   "source": [
    "local mnist = require 'mnist';\n",
    "train = mnist.traindataset();\n",
    "test = mnist.testdataset();\n",
    "\n",
    "for e = 1,1,1 do\n",
    "    print(\"epoch: \",e);\n",
    "    \n",
    "   \n",
    "    x = (train.data:view(60000*28*28)):double();\n",
    "    y = train.label:add(1);\n",
    "    \n",
    "    print(#y)\n",
    "    \n",
    "    function feval(params)\n",
    "        gradParams:zero()\n",
    "        cost = 0\n",
    "        \n",
    "        prediction = model:forward(x:view(60000,28*28))\n",
    "        cost = criterion:forward(prediction,y)\n",
    "        print(\"cost: \",cost)\n",
    "        d_cost_output = criterion:backward(prediction,y)\n",
    "        print(type(d_cost_output))\n",
    "        model:backward(x,d_cost_output)\n",
    "        \n",
    "        return cost,gradParams\n",
    "    end\n",
    "    \n",
    "    optim.sgd(feval,params,optimState)\n",
    "end"
   ]
  },
  {
   "cell_type": "code",
   "execution_count": null,
   "metadata": {
    "collapsed": false
   },
   "outputs": [],
   "source": []
  },
  {
   "cell_type": "code",
   "execution_count": null,
   "metadata": {
    "collapsed": true
   },
   "outputs": [],
   "source": []
  }
 ],
 "metadata": {
  "kernelspec": {
   "display_name": "iTorch",
   "language": "lua",
   "name": "itorch"
  },
  "language_info": {
   "name": "lua",
   "version": "5.1"
  }
 },
 "nbformat": 4,
 "nbformat_minor": 0
}
